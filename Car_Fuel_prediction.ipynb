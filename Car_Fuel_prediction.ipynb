{
 "cells": [
  {
   "cell_type": "code",
   "execution_count": 92,
   "metadata": {},
   "outputs": [],
   "source": [
    "#Importing Libraries\n",
    "import numpy as np \n",
    "from sklearn.linear_model import SGDRegressor\n",
    "from sklearn.preprocessing import StandardScaler\n",
    "from sklearn.model_selection import train_test_split\n",
    "from sklearn.metrics import mean_squared_error,r2_score,mean_absolute_error,accuracy_score\n",
    "import matplotlib.pyplot as plt \n",
    "import pandas as pd "
   ]
  },
  {
   "attachments": {},
   "cell_type": "markdown",
   "metadata": {},
   "source": [
    "### Importing the data \n",
    "The data is imported and loaded using pandas and numpy methods below"
   ]
  },
  {
   "cell_type": "code",
   "execution_count": 25,
   "metadata": {},
   "outputs": [],
   "source": [
    "#Importing data \n",
    "df = pd.read_csv(\"datafiles/Data.csv\")"
   ]
  },
  {
   "cell_type": "code",
   "execution_count": 26,
   "metadata": {},
   "outputs": [
    {
     "data": {
      "text/plain": [
       "(300, 4)"
      ]
     },
     "execution_count": 26,
     "metadata": {},
     "output_type": "execute_result"
    }
   ],
   "source": [
    "df.shape"
   ]
  },
  {
   "cell_type": "code",
   "execution_count": 27,
   "metadata": {},
   "outputs": [
    {
     "name": "stdout",
     "output_type": "stream",
     "text": [
      "<class 'pandas.core.frame.DataFrame'>\n",
      "RangeIndex: 300 entries, 0 to 299\n",
      "Data columns (total 4 columns):\n",
      " #   Column       Non-Null Count  Dtype  \n",
      "---  ------       --------------  -----  \n",
      " 0   Source       300 non-null    object \n",
      " 1   Destination  300 non-null    object \n",
      " 2   Distance     299 non-null    float64\n",
      " 3   Cost         299 non-null    float64\n",
      "dtypes: float64(2), object(2)\n",
      "memory usage: 9.5+ KB\n"
     ]
    }
   ],
   "source": [
    "df.info()"
   ]
  },
  {
   "cell_type": "code",
   "execution_count": 28,
   "metadata": {},
   "outputs": [
    {
     "data": {
      "text/plain": [
       "Source         0\n",
       "Destination    0\n",
       "Distance       1\n",
       "Cost           1\n",
       "dtype: int64"
      ]
     },
     "execution_count": 28,
     "metadata": {},
     "output_type": "execute_result"
    }
   ],
   "source": [
    "df.isnull().sum()"
   ]
  },
  {
   "cell_type": "code",
   "execution_count": 30,
   "metadata": {},
   "outputs": [
    {
     "data": {
      "text/plain": [
       "(299, 4)"
      ]
     },
     "execution_count": 30,
     "metadata": {},
     "output_type": "execute_result"
    }
   ],
   "source": [
    "df.dropna(inplace=True)\n",
    "df.shape"
   ]
  },
  {
   "cell_type": "code",
   "execution_count": 31,
   "metadata": {},
   "outputs": [
    {
     "data": {
      "text/html": [
       "<div>\n",
       "<style scoped>\n",
       "    .dataframe tbody tr th:only-of-type {\n",
       "        vertical-align: middle;\n",
       "    }\n",
       "\n",
       "    .dataframe tbody tr th {\n",
       "        vertical-align: top;\n",
       "    }\n",
       "\n",
       "    .dataframe thead th {\n",
       "        text-align: right;\n",
       "    }\n",
       "</style>\n",
       "<table border=\"1\" class=\"dataframe\">\n",
       "  <thead>\n",
       "    <tr style=\"text-align: right;\">\n",
       "      <th></th>\n",
       "      <th>Distance</th>\n",
       "      <th>Cost</th>\n",
       "    </tr>\n",
       "  </thead>\n",
       "  <tbody>\n",
       "    <tr>\n",
       "      <th>count</th>\n",
       "      <td>299.000000</td>\n",
       "      <td>299.000000</td>\n",
       "    </tr>\n",
       "    <tr>\n",
       "      <th>mean</th>\n",
       "      <td>1474.260278</td>\n",
       "      <td>156728.610111</td>\n",
       "    </tr>\n",
       "    <tr>\n",
       "      <th>std</th>\n",
       "      <td>821.096040</td>\n",
       "      <td>87290.719977</td>\n",
       "    </tr>\n",
       "    <tr>\n",
       "      <th>min</th>\n",
       "      <td>39.819000</td>\n",
       "      <td>4233.157890</td>\n",
       "    </tr>\n",
       "    <tr>\n",
       "      <th>25%</th>\n",
       "      <td>794.930000</td>\n",
       "      <td>84509.008300</td>\n",
       "    </tr>\n",
       "    <tr>\n",
       "      <th>50%</th>\n",
       "      <td>1393.342000</td>\n",
       "      <td>148126.188020</td>\n",
       "    </tr>\n",
       "    <tr>\n",
       "      <th>75%</th>\n",
       "      <td>2050.567000</td>\n",
       "      <td>217995.777770</td>\n",
       "    </tr>\n",
       "    <tr>\n",
       "      <th>max</th>\n",
       "      <td>3688.812000</td>\n",
       "      <td>392157.603720</td>\n",
       "    </tr>\n",
       "  </tbody>\n",
       "</table>\n",
       "</div>"
      ],
      "text/plain": [
       "          Distance           Cost\n",
       "count   299.000000     299.000000\n",
       "mean   1474.260278  156728.610111\n",
       "std     821.096040   87290.719977\n",
       "min      39.819000    4233.157890\n",
       "25%     794.930000   84509.008300\n",
       "50%    1393.342000  148126.188020\n",
       "75%    2050.567000  217995.777770\n",
       "max    3688.812000  392157.603720"
      ]
     },
     "execution_count": 31,
     "metadata": {},
     "output_type": "execute_result"
    }
   ],
   "source": [
    "df.describe()"
   ]
  },
  {
   "cell_type": "code",
   "execution_count": 71,
   "metadata": {},
   "outputs": [
    {
     "data": {
      "text/plain": [
       "array([ 827.003, 2870.403, 2156.109, 2198.27 ,  509.098, 1676.228,\n",
       "        102.754,  957.922,  360.893,  654.485, 1426.548, 3170.96 ,\n",
       "       1744.933,  563.605, 1479.851, 2056.976, 1068.07 , 1518.003,\n",
       "        412.955, 1697.817, 1836.183,  516.471, 2799.631,  211.98 ,\n",
       "        365.636, 1461.093, 3396.898,  880.395,  761.354, 1546.755,\n",
       "       1948.785, 1507.297, 2719.313,  999.342,  345.008,  758.42 ,\n",
       "       1128.118,  197.078, 3080.143,  960.918, 2243.462, 3308.776,\n",
       "       2117.09 ,  799.605, 1504.767,  911.918, 1136.702, 1371.796,\n",
       "        634.744,  962.876, 2544.612, 1087.245, 2328.811,  424.366,\n",
       "       1925.136,  649.9  , 2004.262, 2222.075,  689.154, 3253.606,\n",
       "        662.005,  565.451, 1059.142, 2194.775,  622.955, 2340.042,\n",
       "       1685.037, 1736.702,  370.144, 1754.102,  538.009, 2148.67 ,\n",
       "       1595.1  , 2409.064, 1371.617, 1693.293,  971.087,  543.551,\n",
       "        884.459, 1195.741, 2260.18 , 1963.651,  600.837, 1130.21 ,\n",
       "       1492.72 , 1402.543,   93.482,  834.461, 1424.926,  673.893,\n",
       "        506.372, 1984.227,  460.38 , 1281.94 ,  498.222, 2209.469,\n",
       "        226.55 , 1980.496, 2159.986, 1283.269,  307.207, 1779.899,\n",
       "        636.353, 1908.205,  419.181,  562.314,  717.137, 1335.835,\n",
       "       2056.445, 3461.884, 1116.953, 1695.1  , 1760.288, 1011.615,\n",
       "       1356.58 , 2409.056, 1644.205, 2836.259, 1739.9  ,  644.642,\n",
       "       1620.124, 1270.835, 1393.342, 1666.21 , 1761.41 , 2514.353,\n",
       "       2154.003,  534.428, 2422.958, 2182.255, 2663.251, 1138.627,\n",
       "       2613.569, 2170.799, 2152.323, 1986.064, 2664.981, 2104.696,\n",
       "       1511.195, 1073.218,  499.683,  873.59 ,  435.206,  631.483,\n",
       "        472.674, 2773.423,  356.642,  646.44 ,  636.442, 1269.17 ,\n",
       "       1206.215,  939.267, 3029.013, 2961.476, 1702.111,  733.796,\n",
       "        248.652,  553.568, 1163.149,  277.927, 1600.728, 1953.51 ,\n",
       "        924.632, 2086.924, 1373.562,  203.037, 1950.274, 2912.766,\n",
       "       3319.811, 1504.233,  447.807, 3410.296,  175.22 , 2977.18 ,\n",
       "       2366.394, 2324.414, 1741.293, 1363.252, 3539.694, 1334.274,\n",
       "       1311.328,  724.571, 1359.887, 2134.821,  933.652, 2453.674,\n",
       "        233.507, 1664.119, 2627.052,  665.831, 1357.671, 2112.381,\n",
       "       2517.683,  552.066,  882.13 , 1026.936, 1652.337, 1414.879,\n",
       "        486.387, 1467.2  , 1210.696, 1990.356, 3676.155, 1635.297,\n",
       "       1276.611, 1742.319, 1170.853, 1316.916, 1950.854, 2321.409,\n",
       "       1251.633,  719.773,  692.491, 1881.816, 1087.297, 1769.837,\n",
       "        605.796,  766.738, 1321.885, 1506.993,  737.975, 2016.578,\n",
       "        918.208, 2661.179, 1425.091, 3060.419,  973.403,   98.851,\n",
       "       1777.676, 3688.812, 1369.384,  829.508, 2137.361, 2044.689,\n",
       "       1634.002, 1107.965, 1924.72 , 2368.035,  943.813,  244.072,\n",
       "        705.998,  790.255, 1015.852, 1585.307, 1382.601, 1557.542,\n",
       "       2039.559, 2575.759, 2908.054, 2391.555, 2754.347, 2407.508,\n",
       "       1308.514, 1191.365, 1953.84 , 1009.821,  221.073, 1387.76 ,\n",
       "        621.236, 2057.941, 2067.754,  972.28 ,  913.144,  546.923,\n",
       "        528.47 , 1763.095, 3132.313, 1505.827,  111.366,  928.833,\n",
       "       1825.183, 1057.604, 1806.706, 2107.81 , 1647.877, 2424.513,\n",
       "        463.53 , 1008.756,  993.931,  708.78 , 1577.446, 1791.203,\n",
       "        424.604, 2866.013, 3021.613, 1939.19 , 1309.295,  481.236,\n",
       "       2058.953, 1940.612, 1822.397, 2196.797, 1220.907,  885.411,\n",
       "        966.602,   39.819, 1400.87 , 2307.469, 1016.935])"
      ]
     },
     "execution_count": 71,
     "metadata": {},
     "output_type": "execute_result"
    }
   ],
   "source": [
    "df['Distance'].to_numpy()"
   ]
  },
  {
   "cell_type": "code",
   "execution_count": 65,
   "metadata": {},
   "outputs": [
    {
     "name": "stdout",
     "output_type": "stream",
     "text": [
      "<class 'pandas.core.frame.DataFrame'>\n",
      "Index: 299 entries, 0 to 299\n",
      "Data columns (total 4 columns):\n",
      " #   Column       Non-Null Count  Dtype  \n",
      "---  ------       --------------  -----  \n",
      " 0   Source       299 non-null    string \n",
      " 1   Destination  299 non-null    string \n",
      " 2   Distance     299 non-null    float64\n",
      " 3   Cost         299 non-null    float64\n",
      "dtypes: float64(2), string(2)\n",
      "memory usage: 11.7 KB\n"
     ]
    }
   ],
   "source": []
  },
  {
   "cell_type": "code",
   "execution_count": 73,
   "metadata": {},
   "outputs": [],
   "source": [
    "X_train,X_test,y_train,y_test = train_test_split(df['Distance'],df['Cost'],train_size=0.75)"
   ]
  },
  {
   "cell_type": "code",
   "execution_count": 84,
   "metadata": {},
   "outputs": [],
   "source": [
    "\n",
    "# X_test = X_test.to_numpy()\n",
    "# y_train,y_test = y_train.to_numpy(),y_test.to_numpy()"
   ]
  },
  {
   "attachments": {},
   "cell_type": "markdown",
   "metadata": {},
   "source": [
    "## Normalize/Scale the Data"
   ]
  },
  {
   "cell_type": "code",
   "execution_count": 87,
   "metadata": {},
   "outputs": [
    {
     "data": {
      "text/plain": [
       "(224, 1)"
      ]
     },
     "execution_count": 87,
     "metadata": {},
     "output_type": "execute_result"
    }
   ],
   "source": [
    "#### This cell has been added at the end as to emphasize the importance of Normalisiing the data ######\n",
    "#Before Fitting to the model , we need to reshape the data\n",
    "X_train_shape = X_train.reshape((-1,1))\n",
    "\n",
    "#Calculating mean and standard deviation for single data points\n",
    "mean,sigma = np.mean(X_train),np.std(X_train)\n",
    "#Normalise the data \n",
    "scale = StandardScaler()\n",
    "X_train_norm = scale.fit_transform(X_train_shape)\n",
    "X_train_norm.shape\n"
   ]
  },
  {
   "attachments": {},
   "cell_type": "markdown",
   "metadata": {},
   "source": [
    "## Apply the gradient Descent \n",
    "SGDRegressor is used to apply the gradient descent"
   ]
  },
  {
   "cell_type": "code",
   "execution_count": 88,
   "metadata": {},
   "outputs": [
    {
     "data": {
      "text/html": [
       "<style>#sk-container-id-1 {color: black;}#sk-container-id-1 pre{padding: 0;}#sk-container-id-1 div.sk-toggleable {background-color: white;}#sk-container-id-1 label.sk-toggleable__label {cursor: pointer;display: block;width: 100%;margin-bottom: 0;padding: 0.3em;box-sizing: border-box;text-align: center;}#sk-container-id-1 label.sk-toggleable__label-arrow:before {content: \"▸\";float: left;margin-right: 0.25em;color: #696969;}#sk-container-id-1 label.sk-toggleable__label-arrow:hover:before {color: black;}#sk-container-id-1 div.sk-estimator:hover label.sk-toggleable__label-arrow:before {color: black;}#sk-container-id-1 div.sk-toggleable__content {max-height: 0;max-width: 0;overflow: hidden;text-align: left;background-color: #f0f8ff;}#sk-container-id-1 div.sk-toggleable__content pre {margin: 0.2em;color: black;border-radius: 0.25em;background-color: #f0f8ff;}#sk-container-id-1 input.sk-toggleable__control:checked~div.sk-toggleable__content {max-height: 200px;max-width: 100%;overflow: auto;}#sk-container-id-1 input.sk-toggleable__control:checked~label.sk-toggleable__label-arrow:before {content: \"▾\";}#sk-container-id-1 div.sk-estimator input.sk-toggleable__control:checked~label.sk-toggleable__label {background-color: #d4ebff;}#sk-container-id-1 div.sk-label input.sk-toggleable__control:checked~label.sk-toggleable__label {background-color: #d4ebff;}#sk-container-id-1 input.sk-hidden--visually {border: 0;clip: rect(1px 1px 1px 1px);clip: rect(1px, 1px, 1px, 1px);height: 1px;margin: -1px;overflow: hidden;padding: 0;position: absolute;width: 1px;}#sk-container-id-1 div.sk-estimator {font-family: monospace;background-color: #f0f8ff;border: 1px dotted black;border-radius: 0.25em;box-sizing: border-box;margin-bottom: 0.5em;}#sk-container-id-1 div.sk-estimator:hover {background-color: #d4ebff;}#sk-container-id-1 div.sk-parallel-item::after {content: \"\";width: 100%;border-bottom: 1px solid gray;flex-grow: 1;}#sk-container-id-1 div.sk-label:hover label.sk-toggleable__label {background-color: #d4ebff;}#sk-container-id-1 div.sk-serial::before {content: \"\";position: absolute;border-left: 1px solid gray;box-sizing: border-box;top: 0;bottom: 0;left: 50%;z-index: 0;}#sk-container-id-1 div.sk-serial {display: flex;flex-direction: column;align-items: center;background-color: white;padding-right: 0.2em;padding-left: 0.2em;position: relative;}#sk-container-id-1 div.sk-item {position: relative;z-index: 1;}#sk-container-id-1 div.sk-parallel {display: flex;align-items: stretch;justify-content: center;background-color: white;position: relative;}#sk-container-id-1 div.sk-item::before, #sk-container-id-1 div.sk-parallel-item::before {content: \"\";position: absolute;border-left: 1px solid gray;box-sizing: border-box;top: 0;bottom: 0;left: 50%;z-index: -1;}#sk-container-id-1 div.sk-parallel-item {display: flex;flex-direction: column;z-index: 1;position: relative;background-color: white;}#sk-container-id-1 div.sk-parallel-item:first-child::after {align-self: flex-end;width: 50%;}#sk-container-id-1 div.sk-parallel-item:last-child::after {align-self: flex-start;width: 50%;}#sk-container-id-1 div.sk-parallel-item:only-child::after {width: 0;}#sk-container-id-1 div.sk-dashed-wrapped {border: 1px dashed gray;margin: 0 0.4em 0.5em 0.4em;box-sizing: border-box;padding-bottom: 0.4em;background-color: white;}#sk-container-id-1 div.sk-label label {font-family: monospace;font-weight: bold;display: inline-block;line-height: 1.2em;}#sk-container-id-1 div.sk-label-container {text-align: center;}#sk-container-id-1 div.sk-container {/* jupyter's `normalize.less` sets `[hidden] { display: none; }` but bootstrap.min.css set `[hidden] { display: none !important; }` so we also need the `!important` here to be able to override the default hidden behavior on the sphinx rendered scikit-learn.org. See: https://github.com/scikit-learn/scikit-learn/issues/21755 */display: inline-block !important;position: relative;}#sk-container-id-1 div.sk-text-repr-fallback {display: none;}</style><div id=\"sk-container-id-1\" class=\"sk-top-container\"><div class=\"sk-text-repr-fallback\"><pre>SGDRegressor()</pre><b>In a Jupyter environment, please rerun this cell to show the HTML representation or trust the notebook. <br />On GitHub, the HTML representation is unable to render, please try loading this page with nbviewer.org.</b></div><div class=\"sk-container\" hidden><div class=\"sk-item\"><div class=\"sk-estimator sk-toggleable\"><input class=\"sk-toggleable__control sk-hidden--visually\" id=\"sk-estimator-id-1\" type=\"checkbox\" checked><label for=\"sk-estimator-id-1\" class=\"sk-toggleable__label sk-toggleable__label-arrow\">SGDRegressor</label><div class=\"sk-toggleable__content\"><pre>SGDRegressor()</pre></div></div></div></div></div>"
      ],
      "text/plain": [
       "SGDRegressor()"
      ]
     },
     "execution_count": 88,
     "metadata": {},
     "output_type": "execute_result"
    }
   ],
   "source": [
    "\n",
    "#Training our model by fitting to the linear model\n",
    "gradient_descent = SGDRegressor(max_iter=1000)\n",
    "gradient_descent.fit(X_train_norm,y_train)"
   ]
  },
  {
   "cell_type": "code",
   "execution_count": 89,
   "metadata": {},
   "outputs": [
    {
     "name": "stdout",
     "output_type": "stream",
     "text": [
      "The weights and the bias would be w : [87900.34979505] and b : [159281.61116957] respectively\n"
     ]
    }
   ],
   "source": [
    "#Extracting weights and bias from gradient Descent \n",
    "w_norm = gradient_descent.coef_\n",
    "b_norm = gradient_descent.intercept_\n",
    "print(f\"The weights and the bias would be w : {w_norm} and b : {b_norm} respectively\")"
   ]
  },
  {
   "attachments": {},
   "cell_type": "markdown",
   "metadata": {},
   "source": [
    "## Predict the data"
   ]
  },
  {
   "cell_type": "code",
   "execution_count": 101,
   "metadata": {},
   "outputs": [],
   "source": [
    "#Predicting the data \n",
    "y_pred = gradient_descent.predict(X_train_norm)\n"
   ]
  },
  {
   "cell_type": "markdown",
   "metadata": {},
   "source": [
    "### Measuring Accuracy for Training Data"
   ]
  },
  {
   "cell_type": "code",
   "execution_count": 94,
   "metadata": {},
   "outputs": [
    {
     "name": "stdout",
     "output_type": "stream",
     "text": [
      "The model performance for training set\n",
      "--------------------------------------\n",
      "MAE is 7.260485754323042\n",
      "MSE is 77.0600483965997\n",
      "R2 score is 0.9999999900284807\n",
      "Accuracy : 99.999999%\n"
     ]
    }
   ],
   "source": [
    "#Measuring the accuracy \n",
    "# model evaluation for training set\n",
    "\n",
    "mae = mean_absolute_error(y_train, y_pred)\n",
    "mse = mean_squared_error(y_train, y_pred)\n",
    "r2 = r2_score(y_train, y_pred)\n",
    "\n",
    "print(\"The model performance for training set\")\n",
    "print(\"--------------------------------------\")\n",
    "print('MAE is {}'.format(mae))\n",
    "print('MSE is {}'.format(mse))\n",
    "print('R2 score is {}'.format(r2))\n",
    "\n",
    "print(f\"Accuracy : {r2 * 100:.6f}%\")"
   ]
  },
  {
   "cell_type": "code",
   "execution_count": 95,
   "metadata": {},
   "outputs": [
    {
     "data": {
      "image/png": "[encoded data removed]",
      "text/plain": [
       "<Figure size 640x480 with 1 Axes>"
      ]
     },
     "metadata": {},
     "output_type": "display_data"
    }
   ],
   "source": [
    "# print(X_train,y_train,y_pred,sep=\" \")\n",
    "plt.scatter(X_train,y_train,marker='x',c='black',label='actual Value')\n",
    "plt.plot(X_train,y_pred,color='green',label='Predicted Value')\n",
    "plt.xlabel(\"Distance Travelled\"); \n",
    "plt.ylabel(\"Cost of the Fuel\"); \n",
    "plt.legend(); \n",
    "plt.show()"
   ]
  },
  {
   "cell_type": "code",
   "execution_count": 99,
   "metadata": {},
   "outputs": [],
   "source": [
    "#Predicting for a new value\n",
    "X_test_new = X_test.reshape((-1,1))\n",
    "# X_test_norm = scale.fit(X_test_new)\n",
    "X_test_norm = scale.transform(X_test_new)\n",
    "# print(X_test_norm[:10])\n",
    "\n",
    "### Computating Z_Score normalisation instead of scale.transform() for better accuracy #####\n",
    "\n",
    "# X_test_norm = (X_test_new - mean) / sigma\n",
    "# print(X_test_new)\n",
    "y_test_pred = gradient_descent.predict(X_test_norm)"
   ]
  },
  {
   "cell_type": "code",
   "execution_count": 97,
   "metadata": {},
   "outputs": [
    {
     "data": {
      "image/png": "[encoded data removed]",
      "text/plain": [
       "<Figure size 640x480 with 1 Axes>"
      ]
     },
     "metadata": {},
     "output_type": "display_data"
    }
   ],
   "source": [
    "# print(X_test,y_test,y_pred,sep=\" \")\n",
    "plt.scatter(X_test,y_test,marker='x',c='black',label='actual Value')\n",
    "plt.plot(X_test,y_test_pred,color='green',label='Predicted Value')\n",
    "plt.xlabel(\"Distance Travelled\"); \n",
    "plt.ylabel(\"Cost of the Fuel\"); \n",
    "plt.legend(); \n",
    "plt.show()"
   ]
  },
  {
   "cell_type": "markdown",
   "metadata": {},
   "source": [
    "### Measuring the accuracy for testing Data"
   ]
  },
  {
   "cell_type": "code",
   "execution_count": 100,
   "metadata": {},
   "outputs": [
    {
     "name": "stdout",
     "output_type": "stream",
     "text": [
      "The model performance for testing set\n",
      "--------------------------------------\n",
      "MAE is 7.032856426353052\n",
      "MSE is 72.0061775818017\n",
      "R2 score is 0.9999999898823354\n",
      "Accuracy : 99.999999%\n"
     ]
    }
   ],
   "source": [
    "# model evaluation for testing set\n",
    "\n",
    "mae = mean_absolute_error(y_test, y_test_pred)\n",
    "mse = mean_squared_error(y_test, y_test_pred)\n",
    "r2 = r2_score(y_test, y_test_pred)\n",
    "\n",
    "print(\"The model performance for testing set\")\n",
    "print(\"--------------------------------------\")\n",
    "print('MAE is {}'.format(mae))\n",
    "print('MSE is {}'.format(mse))\n",
    "print('R2 score is {}'.format(r2))\n",
    "\n",
    "print(f\"Accuracy : {r2 * 100:.6f}%\")"
   ]
  }
 ],
 "metadata": {
  "kernelspec": {
   "display_name": "scikit_is_cool_venv",
   "language": "python",
   "name": "python3"
  },
  "language_info": {
   "codemirror_mode": {
    "name": "ipython",
    "version": 3
   },
   "file_extension": ".py",
   "mimetype": "text/x-python",
   "name": "python",
   "nbconvert_exporter": "python",
   "pygments_lexer": "ipython3",
   "version": "3.10.12"
  },
  "orig_nbformat": 4
 },
 "nbformat": 4,
 "nbformat_minor": 2
}
