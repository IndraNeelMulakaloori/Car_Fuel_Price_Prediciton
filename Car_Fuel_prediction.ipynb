{
 "cells": [
  {
   "cell_type": "code",
   "execution_count": 1,
   "metadata": {},
   "outputs": [],
   "source": [
    "#Importing Libraries\n",
    "import numpy as np \n",
    "from sklearn.linear_model import SGDRegressor\n",
    "from sklearn.preprocessing import StandardScaler\n",
    "from sklearn.model_selection import train_test_split\n",
    "from sklearn.metrics import mean_squared_error,r2_score,mean_absolute_error,accuracy_score\n",
    "import matplotlib.pyplot as plt \n",
    "import pandas as pd \n",
    "import pickle as pkl"
   ]
  },
  {
   "attachments": {},
   "cell_type": "markdown",
   "metadata": {},
   "source": [
    "### Importing the data \n",
    "The data is imported and loaded using pandas and numpy methods below"
   ]
  },
  {
   "cell_type": "code",
   "execution_count": 2,
   "metadata": {},
   "outputs": [],
   "source": [
    "#Importing data \n",
    "df = pd.read_csv(\"datafiles/Data.csv\")"
   ]
  },
  {
   "cell_type": "code",
   "execution_count": 3,
   "metadata": {},
   "outputs": [
    {
     "data": {
      "text/plain": [
       "(300, 4)"
      ]
     },
     "execution_count": 3,
     "metadata": {},
     "output_type": "execute_result"
    }
   ],
   "source": [
    "df.shape"
   ]
  },
  {
   "cell_type": "code",
   "execution_count": 4,
   "metadata": {},
   "outputs": [
    {
     "name": "stdout",
     "output_type": "stream",
     "text": [
      "<class 'pandas.core.frame.DataFrame'>\n",
      "RangeIndex: 300 entries, 0 to 299\n",
      "Data columns (total 4 columns):\n",
      " #   Column       Non-Null Count  Dtype  \n",
      "---  ------       --------------  -----  \n",
      " 0   Source       300 non-null    object \n",
      " 1   Destination  300 non-null    object \n",
      " 2   Distance     295 non-null    float64\n",
      " 3   Fuel Cost    295 non-null    float64\n",
      "dtypes: float64(2), object(2)\n",
      "memory usage: 9.5+ KB\n"
     ]
    }
   ],
   "source": [
    "df.info()"
   ]
  },
  {
   "cell_type": "code",
   "execution_count": 5,
   "metadata": {},
   "outputs": [
    {
     "data": {
      "text/plain": [
       "Source         0\n",
       "Destination    0\n",
       "Distance       5\n",
       "Fuel Cost      5\n",
       "dtype: int64"
      ]
     },
     "execution_count": 5,
     "metadata": {},
     "output_type": "execute_result"
    }
   ],
   "source": [
    "df.isnull().sum()"
   ]
  },
  {
   "cell_type": "code",
   "execution_count": 6,
   "metadata": {},
   "outputs": [
    {
     "data": {
      "text/plain": [
       "(295, 4)"
      ]
     },
     "execution_count": 6,
     "metadata": {},
     "output_type": "execute_result"
    }
   ],
   "source": [
    "df.dropna(inplace=True)\n",
    "df.shape"
   ]
  },
  {
   "cell_type": "code",
   "execution_count": 7,
   "metadata": {},
   "outputs": [
    {
     "data": {
      "text/html": [
       "<div>\n",
       "<style scoped>\n",
       "    .dataframe tbody tr th:only-of-type {\n",
       "        vertical-align: middle;\n",
       "    }\n",
       "\n",
       "    .dataframe tbody tr th {\n",
       "        vertical-align: top;\n",
       "    }\n",
       "\n",
       "    .dataframe thead th {\n",
       "        text-align: right;\n",
       "    }\n",
       "</style>\n",
       "<table border=\"1\" class=\"dataframe\">\n",
       "  <thead>\n",
       "    <tr style=\"text-align: right;\">\n",
       "      <th></th>\n",
       "      <th>Distance</th>\n",
       "      <th>Fuel Cost</th>\n",
       "    </tr>\n",
       "  </thead>\n",
       "  <tbody>\n",
       "    <tr>\n",
       "      <th>count</th>\n",
       "      <td>295.000000</td>\n",
       "      <td>295.000000</td>\n",
       "    </tr>\n",
       "    <tr>\n",
       "      <th>mean</th>\n",
       "      <td>1458.457664</td>\n",
       "      <td>10336.575620</td>\n",
       "    </tr>\n",
       "    <tr>\n",
       "      <th>std</th>\n",
       "      <td>820.655980</td>\n",
       "      <td>5816.262483</td>\n",
       "    </tr>\n",
       "    <tr>\n",
       "      <th>min</th>\n",
       "      <td>29.121000</td>\n",
       "      <td>206.390234</td>\n",
       "    </tr>\n",
       "    <tr>\n",
       "      <th>25%</th>\n",
       "      <td>809.747000</td>\n",
       "      <td>5738.946905</td>\n",
       "    </tr>\n",
       "    <tr>\n",
       "      <th>50%</th>\n",
       "      <td>1407.682000</td>\n",
       "      <td>9976.711561</td>\n",
       "    </tr>\n",
       "    <tr>\n",
       "      <th>75%</th>\n",
       "      <td>1992.999000</td>\n",
       "      <td>14125.048246</td>\n",
       "    </tr>\n",
       "    <tr>\n",
       "      <th>max</th>\n",
       "      <td>3547.261000</td>\n",
       "      <td>25140.621127</td>\n",
       "    </tr>\n",
       "  </tbody>\n",
       "</table>\n",
       "</div>"
      ],
      "text/plain": [
       "          Distance     Fuel Cost\n",
       "count   295.000000    295.000000\n",
       "mean   1458.457664  10336.575620\n",
       "std     820.655980   5816.262483\n",
       "min      29.121000    206.390234\n",
       "25%     809.747000   5738.946905\n",
       "50%    1407.682000   9976.711561\n",
       "75%    1992.999000  14125.048246\n",
       "max    3547.261000  25140.621127"
      ]
     },
     "execution_count": 7,
     "metadata": {},
     "output_type": "execute_result"
    }
   ],
   "source": [
    "df.describe()"
   ]
  },
  {
   "cell_type": "code",
   "execution_count": 8,
   "metadata": {},
   "outputs": [
    {
     "data": {
      "text/html": [
       "<div>\n",
       "<style scoped>\n",
       "    .dataframe tbody tr th:only-of-type {\n",
       "        vertical-align: middle;\n",
       "    }\n",
       "\n",
       "    .dataframe tbody tr th {\n",
       "        vertical-align: top;\n",
       "    }\n",
       "\n",
       "    .dataframe thead th {\n",
       "        text-align: right;\n",
       "    }\n",
       "</style>\n",
       "<table border=\"1\" class=\"dataframe\">\n",
       "  <thead>\n",
       "    <tr style=\"text-align: right;\">\n",
       "      <th></th>\n",
       "      <th>Source</th>\n",
       "      <th>Destination</th>\n",
       "      <th>Distance</th>\n",
       "      <th>Fuel Cost</th>\n",
       "    </tr>\n",
       "  </thead>\n",
       "  <tbody>\n",
       "    <tr>\n",
       "      <th>52</th>\n",
       "      <td>East Sikkim</td>\n",
       "      <td>Chandrapur</td>\n",
       "      <td>1689.540</td>\n",
       "      <td>11974.333160</td>\n",
       "    </tr>\n",
       "    <tr>\n",
       "      <th>54</th>\n",
       "      <td>West Medinipur</td>\n",
       "      <td>Pudukkottai</td>\n",
       "      <td>1931.496</td>\n",
       "      <td>13689.155984</td>\n",
       "    </tr>\n",
       "    <tr>\n",
       "      <th>55</th>\n",
       "      <td>Darjeeling</td>\n",
       "      <td>Jehanabad</td>\n",
       "      <td>544.573</td>\n",
       "      <td>3859.570375</td>\n",
       "    </tr>\n",
       "    <tr>\n",
       "      <th>56</th>\n",
       "      <td>Fatehpur</td>\n",
       "      <td>Gurgaon</td>\n",
       "      <td>595.338</td>\n",
       "      <td>4219.358852</td>\n",
       "    </tr>\n",
       "    <tr>\n",
       "      <th>57</th>\n",
       "      <td>Nagapattinam</td>\n",
       "      <td>Rangareddy</td>\n",
       "      <td>642.807</td>\n",
       "      <td>4555.787478</td>\n",
       "    </tr>\n",
       "    <tr>\n",
       "      <th>58</th>\n",
       "      <td>Aligarh</td>\n",
       "      <td>Upper Subansiri</td>\n",
       "      <td>2339.540</td>\n",
       "      <td>16581.099827</td>\n",
       "    </tr>\n",
       "    <tr>\n",
       "      <th>59</th>\n",
       "      <td>Baramulla</td>\n",
       "      <td>North Dinajpur</td>\n",
       "      <td>2270.577</td>\n",
       "      <td>16092.336058</td>\n",
       "    </tr>\n",
       "    <tr>\n",
       "      <th>60</th>\n",
       "      <td>Rajauri</td>\n",
       "      <td>Karaikal</td>\n",
       "      <td>3226.177</td>\n",
       "      <td>22864.991791</td>\n",
       "    </tr>\n",
       "    <tr>\n",
       "      <th>61</th>\n",
       "      <td>Cuddalore</td>\n",
       "      <td>Bharatpur</td>\n",
       "      <td>2180.102</td>\n",
       "      <td>15451.109575</td>\n",
       "    </tr>\n",
       "    <tr>\n",
       "      <th>62</th>\n",
       "      <td>Gulbarga</td>\n",
       "      <td>Kohima</td>\n",
       "      <td>2778.202</td>\n",
       "      <td>19690.043641</td>\n",
       "    </tr>\n",
       "    <tr>\n",
       "      <th>63</th>\n",
       "      <td>New Delhi</td>\n",
       "      <td>Ghaziabad</td>\n",
       "      <td>29.121</td>\n",
       "      <td>206.390234</td>\n",
       "    </tr>\n",
       "    <tr>\n",
       "      <th>64</th>\n",
       "      <td>Kheri</td>\n",
       "      <td>Surendranagar</td>\n",
       "      <td>1446.124</td>\n",
       "      <td>10249.162829</td>\n",
       "    </tr>\n",
       "    <tr>\n",
       "      <th>65</th>\n",
       "      <td>Raisen</td>\n",
       "      <td>Lower Subansiri</td>\n",
       "      <td>2186.660</td>\n",
       "      <td>15497.588307</td>\n",
       "    </tr>\n",
       "    <tr>\n",
       "      <th>66</th>\n",
       "      <td>Bareilly</td>\n",
       "      <td>Banswara</td>\n",
       "      <td>1059.830</td>\n",
       "      <td>7511.368487</td>\n",
       "    </tr>\n",
       "    <tr>\n",
       "      <th>67</th>\n",
       "      <td>Erode</td>\n",
       "      <td>Mahasamund</td>\n",
       "      <td>1553.199</td>\n",
       "      <td>11008.039046</td>\n",
       "    </tr>\n",
       "    <tr>\n",
       "      <th>68</th>\n",
       "      <td>Lower Dibang Valley</td>\n",
       "      <td>Baksa</td>\n",
       "      <td>648.426</td>\n",
       "      <td>4595.611204</td>\n",
       "    </tr>\n",
       "    <tr>\n",
       "      <th>69</th>\n",
       "      <td>Sant Kabir Nagar</td>\n",
       "      <td>Karimganj</td>\n",
       "      <td>1523.724</td>\n",
       "      <td>10799.139896</td>\n",
       "    </tr>\n",
       "    <tr>\n",
       "      <th>70</th>\n",
       "      <td>Surendranagar</td>\n",
       "      <td>Kanker</td>\n",
       "      <td>1253.364</td>\n",
       "      <td>8883.008456</td>\n",
       "    </tr>\n",
       "    <tr>\n",
       "      <th>71</th>\n",
       "      <td>Jalor</td>\n",
       "      <td>Alwar</td>\n",
       "      <td>611.381</td>\n",
       "      <td>4333.060941</td>\n",
       "    </tr>\n",
       "    <tr>\n",
       "      <th>72</th>\n",
       "      <td>Jehanabad</td>\n",
       "      <td>Gurgaon</td>\n",
       "      <td>1088.803</td>\n",
       "      <td>7716.709795</td>\n",
       "    </tr>\n",
       "    <tr>\n",
       "      <th>73</th>\n",
       "      <td>Hamirpur</td>\n",
       "      <td>Poonch</td>\n",
       "      <td>273.988</td>\n",
       "      <td>1941.844285</td>\n",
       "    </tr>\n",
       "    <tr>\n",
       "      <th>74</th>\n",
       "      <td>Jhansi</td>\n",
       "      <td>Jalgaon</td>\n",
       "      <td>772.007</td>\n",
       "      <td>5471.470945</td>\n",
       "    </tr>\n",
       "    <tr>\n",
       "      <th>75</th>\n",
       "      <td>North Delhi</td>\n",
       "      <td>Gadchiroli</td>\n",
       "      <td>1220.217</td>\n",
       "      <td>8648.084618</td>\n",
       "    </tr>\n",
       "    <tr>\n",
       "      <th>76</th>\n",
       "      <td>Murshidabad</td>\n",
       "      <td>Dhenkanal</td>\n",
       "      <td>654.766</td>\n",
       "      <td>4640.544897</td>\n",
       "    </tr>\n",
       "    <tr>\n",
       "      <th>77</th>\n",
       "      <td>Bilaspur</td>\n",
       "      <td>Kamrup</td>\n",
       "      <td>2221.559</td>\n",
       "      <td>15744.929153</td>\n",
       "    </tr>\n",
       "    <tr>\n",
       "      <th>78</th>\n",
       "      <td>Tirap</td>\n",
       "      <td>Krishna</td>\n",
       "      <td>2651.665</td>\n",
       "      <td>18793.233743</td>\n",
       "    </tr>\n",
       "    <tr>\n",
       "      <th>79</th>\n",
       "      <td>Kiphire</td>\n",
       "      <td>Sikar</td>\n",
       "      <td>2579.838</td>\n",
       "      <td>18284.171852</td>\n",
       "    </tr>\n",
       "    <tr>\n",
       "      <th>80</th>\n",
       "      <td>Chitrakoot</td>\n",
       "      <td>North Dinajpur</td>\n",
       "      <td>887.433</td>\n",
       "      <td>6289.533482</td>\n",
       "    </tr>\n",
       "    <tr>\n",
       "      <th>81</th>\n",
       "      <td>Tinsukia</td>\n",
       "      <td>Anantnag</td>\n",
       "      <td>3113.291</td>\n",
       "      <td>22064.931081</td>\n",
       "    </tr>\n",
       "    <tr>\n",
       "      <th>82</th>\n",
       "      <td>Dhar</td>\n",
       "      <td>Patan</td>\n",
       "      <td>449.073</td>\n",
       "      <td>3182.730042</td>\n",
       "    </tr>\n",
       "  </tbody>\n",
       "</table>\n",
       "</div>"
      ],
      "text/plain": [
       "                 Source      Destination  Distance     Fuel Cost\n",
       "52          East Sikkim       Chandrapur  1689.540  11974.333160\n",
       "54       West Medinipur      Pudukkottai  1931.496  13689.155984\n",
       "55           Darjeeling        Jehanabad   544.573   3859.570375\n",
       "56             Fatehpur          Gurgaon   595.338   4219.358852\n",
       "57         Nagapattinam       Rangareddy   642.807   4555.787478\n",
       "58              Aligarh  Upper Subansiri  2339.540  16581.099827\n",
       "59            Baramulla   North Dinajpur  2270.577  16092.336058\n",
       "60              Rajauri         Karaikal  3226.177  22864.991791\n",
       "61            Cuddalore        Bharatpur  2180.102  15451.109575\n",
       "62             Gulbarga           Kohima  2778.202  19690.043641\n",
       "63            New Delhi        Ghaziabad    29.121    206.390234\n",
       "64                Kheri    Surendranagar  1446.124  10249.162829\n",
       "65               Raisen  Lower Subansiri  2186.660  15497.588307\n",
       "66             Bareilly         Banswara  1059.830   7511.368487\n",
       "67                Erode       Mahasamund  1553.199  11008.039046\n",
       "68  Lower Dibang Valley            Baksa   648.426   4595.611204\n",
       "69     Sant Kabir Nagar        Karimganj  1523.724  10799.139896\n",
       "70        Surendranagar           Kanker  1253.364   8883.008456\n",
       "71                Jalor            Alwar   611.381   4333.060941\n",
       "72            Jehanabad          Gurgaon  1088.803   7716.709795\n",
       "73             Hamirpur           Poonch   273.988   1941.844285\n",
       "74               Jhansi          Jalgaon   772.007   5471.470945\n",
       "75          North Delhi       Gadchiroli  1220.217   8648.084618\n",
       "76          Murshidabad        Dhenkanal   654.766   4640.544897\n",
       "77             Bilaspur           Kamrup  2221.559  15744.929153\n",
       "78                Tirap          Krishna  2651.665  18793.233743\n",
       "79              Kiphire            Sikar  2579.838  18284.171852\n",
       "80           Chitrakoot   North Dinajpur   887.433   6289.533482\n",
       "81             Tinsukia         Anantnag  3113.291  22064.931081\n",
       "82                 Dhar            Patan   449.073   3182.730042"
      ]
     },
     "execution_count": 8,
     "metadata": {},
     "output_type": "execute_result"
    }
   ],
   "source": [
    "df[50:80]"
   ]
  },
  {
   "cell_type": "code",
   "execution_count": 9,
   "metadata": {},
   "outputs": [
    {
     "data": {
      "text/plain": [
       "array([1769.071, 1585.198,  550.592, 2854.314, 1344.634, 3166.656,\n",
       "        823.409, 1646.833, 2039.039,  814.57 ,  828.69 , 1162.388,\n",
       "       1820.537, 1284.434, 2126.618,  529.31 ,  330.536, 2535.554,\n",
       "        956.693, 1968.112, 2044.173,  804.924, 1632.888, 1060.907,\n",
       "       2576.708,   64.972, 2086.804, 1149.772, 1943.118, 1776.089,\n",
       "       1758.991, 2416.213, 2399.73 ,  318.649, 1110.617, 2017.506,\n",
       "       1905.6  , 1033.814, 1263.154, 1611.1  , 2581.813,  591.942,\n",
       "        208.9  , 1122.099, 1056.763, 1222.878,  207.558, 1971.296,\n",
       "        690.155,  605.93 , 1689.54 , 1931.496,  544.573,  595.338,\n",
       "        642.807, 2339.54 , 2270.577, 3226.177, 2180.102, 2778.202,\n",
       "         29.121, 1446.124, 2186.66 , 1059.83 , 1553.199,  648.426,\n",
       "       1523.724, 1253.364,  611.381, 1088.803,  273.988,  772.007,\n",
       "       1220.217,  654.766, 2221.559, 2651.665, 2579.838,  887.433,\n",
       "       3113.291,  449.073,  746.015, 1951.508,  692.226,  755.094,\n",
       "       2784.574,  548.886, 1407.682, 1337.435,  869.945, 2139.806,\n",
       "       1730.506,  162.718,  375.724, 1295.223,  446.472, 2282.288,\n",
       "       1393.983,  422.781,  319.257,   77.836, 3033.776, 2296.345,\n",
       "       1466.171, 1189.721, 2456.439, 1831.139, 1929.207, 2972.211,\n",
       "       3085.97 ,  827.34 , 2229.881,  881.729,  586.069, 1848.003,\n",
       "       3535.197, 3031.61 ,  881.367,  374.573, 1486.676,  970.877,\n",
       "       1174.715, 1375.205, 2022.024, 1221.795,  302.378, 1716.466,\n",
       "       2206.864,  433.238, 2855.11 ,  542.205, 1487.712,  451.119,\n",
       "       1978.632, 1173.751, 3105.076, 1728.093, 1128.137, 2581.313,\n",
       "       1537.021, 1547.907, 1756.478,  688.118,  678.128, 1475.353,\n",
       "       1492.571, 1963.88 , 1427.801,  456.373, 2265.389, 1347.024,\n",
       "        303.276,  552.803,  671.704, 1099.062, 3461.377, 1660.552,\n",
       "       1450.932, 1456.541,  936.794, 1409.052, 2949.781,  364.574,\n",
       "       1000.426, 1572.851, 1517.999, 1781.621, 1156.13 , 3145.629,\n",
       "       1061.79 , 1693.852, 1572.004, 2425.796, 2489.492, 1315.088,\n",
       "        758.199,  855.765, 1675.731, 2367.256, 1402.035, 1705.923,\n",
       "         56.555, 2879.684, 1427.077, 1519.953, 1572.437, 1144.316,\n",
       "       1771.335,  639.601,  648.137,  576.274,  358.497, 1081.002,\n",
       "        186.505, 1494.397, 1759.788, 1692.18 , 2281.706,  618.97 ,\n",
       "       1209.621,  874.829, 2735.724, 1358.361, 2139.251,  913.477,\n",
       "        682.109, 1881.174, 3242.327, 1485.815, 2873.16 , 1640.056,\n",
       "       2887.72 ,  410.058, 2093.311, 1376.761,  294.833, 1578.125,\n",
       "       1979.754,  360.073,  214.818, 1213.362, 1586.689,  352.716,\n",
       "       1098.411, 2061.747, 1644.373, 1366.295, 1197.477,  443.095,\n",
       "       2931.514, 2337.614, 2187.152,  957.451, 1493.486, 1396.366,\n",
       "       2248.364, 1823.191, 1382.755, 1157.799,  690.567, 1415.018,\n",
       "       2712.331,  640.602, 1132.661, 1066.926, 1360.973, 1063.274,\n",
       "        367.116,  531.291,  381.298, 2203.684, 3547.261, 1473.952,\n",
       "       1894.679, 2267.783,  990.778, 1986.633, 1987.746,  214.887,\n",
       "       1058.818,  978.409,  390.499,  174.962, 2548.395, 1509.913,\n",
       "       2732.58 ,  803.914, 2403.146, 1099.504, 2672.823, 2663.027,\n",
       "       1469.858, 3130.999, 1148.674,  160.306, 1154.974, 2913.89 ,\n",
       "       1998.252, 2233.26 , 1819.516, 2266.026, 1200.709,  618.76 ,\n",
       "       1031.515,  139.097, 1815.277, 1000.001, 3044.544,  435.398,\n",
       "       1135.366, 1611.002,  199.902, 1177.679, 1890.077, 2197.553,\n",
       "        284.055])"
      ]
     },
     "execution_count": 9,
     "metadata": {},
     "output_type": "execute_result"
    }
   ],
   "source": [
    "df['Distance'].to_numpy()"
   ]
  },
  {
   "cell_type": "code",
   "execution_count": null,
   "metadata": {},
   "outputs": [],
   "source": []
  },
  {
   "cell_type": "code",
   "execution_count": 12,
   "metadata": {},
   "outputs": [],
   "source": [
    "X_train,X_test,y_train,y_test = train_test_split(df['Distance'],df['Fuel Cost'],train_size=0.75)"
   ]
  },
  {
   "cell_type": "code",
   "execution_count": 13,
   "metadata": {},
   "outputs": [],
   "source": [
    "X_train, X_test = X_train.to_numpy(),X_test.to_numpy()\n",
    "y_train,y_test = y_train.to_numpy(),y_test.to_numpy()\n"
   ]
  },
  {
   "attachments": {},
   "cell_type": "markdown",
   "metadata": {},
   "source": [
    "## Normalize/Scale the Data"
   ]
  },
  {
   "cell_type": "code",
   "execution_count": 14,
   "metadata": {},
   "outputs": [
    {
     "data": {
      "text/plain": [
       "(221, 1)"
      ]
     },
     "execution_count": 14,
     "metadata": {},
     "output_type": "execute_result"
    }
   ],
   "source": [
    "#### This cell has been added at the end as to emphasize the importance of Normalisiing the data ######\n",
    "#Before Fitting to the model , we need to reshape the data\n",
    "X_train_shape = X_train.reshape((-1,1))\n",
    "\n",
    "#Calculating mean and standard deviation for single data points\n",
    "mean,sigma = np.mean(X_train),np.std(X_train)\n",
    "#Normalise the data \n",
    "scale = StandardScaler()\n",
    "X_train_norm = scale.fit_transform(X_train_shape)\n",
    "X_train_norm.shape\n",
    "# X_train_shape\n"
   ]
  },
  {
   "attachments": {},
   "cell_type": "markdown",
   "metadata": {},
   "source": [
    "## Apply the gradient Descent \n",
    "SGDRegressor is used to apply the gradient descent"
   ]
  },
  {
   "cell_type": "code",
   "execution_count": 15,
   "metadata": {},
   "outputs": [
    {
     "data": {
      "text/html": [
       "<style>#sk-container-id-1 {color: black;}#sk-container-id-1 pre{padding: 0;}#sk-container-id-1 div.sk-toggleable {background-color: white;}#sk-container-id-1 label.sk-toggleable__label {cursor: pointer;display: block;width: 100%;margin-bottom: 0;padding: 0.3em;box-sizing: border-box;text-align: center;}#sk-container-id-1 label.sk-toggleable__label-arrow:before {content: \"▸\";float: left;margin-right: 0.25em;color: #696969;}#sk-container-id-1 label.sk-toggleable__label-arrow:hover:before {color: black;}#sk-container-id-1 div.sk-estimator:hover label.sk-toggleable__label-arrow:before {color: black;}#sk-container-id-1 div.sk-toggleable__content {max-height: 0;max-width: 0;overflow: hidden;text-align: left;background-color: #f0f8ff;}#sk-container-id-1 div.sk-toggleable__content pre {margin: 0.2em;color: black;border-radius: 0.25em;background-color: #f0f8ff;}#sk-container-id-1 input.sk-toggleable__control:checked~div.sk-toggleable__content {max-height: 200px;max-width: 100%;overflow: auto;}#sk-container-id-1 input.sk-toggleable__control:checked~label.sk-toggleable__label-arrow:before {content: \"▾\";}#sk-container-id-1 div.sk-estimator input.sk-toggleable__control:checked~label.sk-toggleable__label {background-color: #d4ebff;}#sk-container-id-1 div.sk-label input.sk-toggleable__control:checked~label.sk-toggleable__label {background-color: #d4ebff;}#sk-container-id-1 input.sk-hidden--visually {border: 0;clip: rect(1px 1px 1px 1px);clip: rect(1px, 1px, 1px, 1px);height: 1px;margin: -1px;overflow: hidden;padding: 0;position: absolute;width: 1px;}#sk-container-id-1 div.sk-estimator {font-family: monospace;background-color: #f0f8ff;border: 1px dotted black;border-radius: 0.25em;box-sizing: border-box;margin-bottom: 0.5em;}#sk-container-id-1 div.sk-estimator:hover {background-color: #d4ebff;}#sk-container-id-1 div.sk-parallel-item::after {content: \"\";width: 100%;border-bottom: 1px solid gray;flex-grow: 1;}#sk-container-id-1 div.sk-label:hover label.sk-toggleable__label {background-color: #d4ebff;}#sk-container-id-1 div.sk-serial::before {content: \"\";position: absolute;border-left: 1px solid gray;box-sizing: border-box;top: 0;bottom: 0;left: 50%;z-index: 0;}#sk-container-id-1 div.sk-serial {display: flex;flex-direction: column;align-items: center;background-color: white;padding-right: 0.2em;padding-left: 0.2em;position: relative;}#sk-container-id-1 div.sk-item {position: relative;z-index: 1;}#sk-container-id-1 div.sk-parallel {display: flex;align-items: stretch;justify-content: center;background-color: white;position: relative;}#sk-container-id-1 div.sk-item::before, #sk-container-id-1 div.sk-parallel-item::before {content: \"\";position: absolute;border-left: 1px solid gray;box-sizing: border-box;top: 0;bottom: 0;left: 50%;z-index: -1;}#sk-container-id-1 div.sk-parallel-item {display: flex;flex-direction: column;z-index: 1;position: relative;background-color: white;}#sk-container-id-1 div.sk-parallel-item:first-child::after {align-self: flex-end;width: 50%;}#sk-container-id-1 div.sk-parallel-item:last-child::after {align-self: flex-start;width: 50%;}#sk-container-id-1 div.sk-parallel-item:only-child::after {width: 0;}#sk-container-id-1 div.sk-dashed-wrapped {border: 1px dashed gray;margin: 0 0.4em 0.5em 0.4em;box-sizing: border-box;padding-bottom: 0.4em;background-color: white;}#sk-container-id-1 div.sk-label label {font-family: monospace;font-weight: bold;display: inline-block;line-height: 1.2em;}#sk-container-id-1 div.sk-label-container {text-align: center;}#sk-container-id-1 div.sk-container {/* jupyter's `normalize.less` sets `[hidden] { display: none; }` but bootstrap.min.css set `[hidden] { display: none !important; }` so we also need the `!important` here to be able to override the default hidden behavior on the sphinx rendered scikit-learn.org. See: https://github.com/scikit-learn/scikit-learn/issues/21755 */display: inline-block !important;position: relative;}#sk-container-id-1 div.sk-text-repr-fallback {display: none;}</style><div id=\"sk-container-id-1\" class=\"sk-top-container\"><div class=\"sk-text-repr-fallback\"><pre>SGDRegressor()</pre><b>In a Jupyter environment, please rerun this cell to show the HTML representation or trust the notebook. <br />On GitHub, the HTML representation is unable to render, please try loading this page with nbviewer.org.</b></div><div class=\"sk-container\" hidden><div class=\"sk-item\"><div class=\"sk-estimator sk-toggleable\"><input class=\"sk-toggleable__control sk-hidden--visually\" id=\"sk-estimator-id-1\" type=\"checkbox\" checked><label for=\"sk-estimator-id-1\" class=\"sk-toggleable__label sk-toggleable__label-arrow\">SGDRegressor</label><div class=\"sk-toggleable__content\"><pre>SGDRegressor()</pre></div></div></div></div></div>"
      ],
      "text/plain": [
       "SGDRegressor()"
      ]
     },
     "execution_count": 15,
     "metadata": {},
     "output_type": "execute_result"
    }
   ],
   "source": [
    "\n",
    "#Training our model by fitting to the linear model\n",
    "gradient_descent = SGDRegressor(max_iter=1000)\n",
    "gradient_descent.fit(X_train_norm,y_train)"
   ]
  },
  {
   "cell_type": "code",
   "execution_count": 16,
   "metadata": {},
   "outputs": [
    {
     "name": "stdout",
     "output_type": "stream",
     "text": [
      "The weights and the bias would be w : [5874.71514281] and b : [10322.45490027] respectively\n"
     ]
    }
   ],
   "source": [
    "#Extracting weights and bias from gradient Descent \n",
    "w_norm = gradient_descent.coef_\n",
    "b_norm = gradient_descent.intercept_\n",
    "print(f\"The weights and the bias would be w : {w_norm} and b : {b_norm} respectively\")"
   ]
  },
  {
   "attachments": {},
   "cell_type": "markdown",
   "metadata": {},
   "source": [
    "## Predict the data"
   ]
  },
  {
   "cell_type": "code",
   "execution_count": 17,
   "metadata": {},
   "outputs": [],
   "source": [
    "#Predicting the data \n",
    "y_pred = gradient_descent.predict(X_train_norm)\n"
   ]
  },
  {
   "cell_type": "markdown",
   "metadata": {},
   "source": [
    "### Measuring Accuracy for Training Data"
   ]
  },
  {
   "cell_type": "code",
   "execution_count": 18,
   "metadata": {},
   "outputs": [
    {
     "name": "stdout",
     "output_type": "stream",
     "text": [
      "The model performance for training set\n",
      "--------------------------------------\n",
      "MAE is 0.48544612137109894\n",
      "MSE is 0.34481458910512147\n",
      "R2 score is 0.9999999900109269\n",
      "Accuracy : 99.999999%\n"
     ]
    }
   ],
   "source": [
    "#Measuring the accuracy \n",
    "# model evaluation for training set\n",
    "\n",
    "mae = mean_absolute_error(y_train, y_pred)\n",
    "mse = mean_squared_error(y_train, y_pred)\n",
    "r2 = r2_score(y_train, y_pred)\n",
    "\n",
    "print(\"The model performance for training set\")\n",
    "print(\"--------------------------------------\")\n",
    "print('MAE is {}'.format(mae))\n",
    "print('MSE is {}'.format(mse))\n",
    "print('R2 score is {}'.format(r2))\n",
    "\n",
    "print(f\"Accuracy : {r2 * 100:.6f}%\")"
   ]
  },
  {
   "cell_type": "code",
   "execution_count": 19,
   "metadata": {},
   "outputs": [
    {
     "data": {
      "image/png": "[encoded data removed]",
      "text/plain": [
       "<Figure size 640x480 with 1 Axes>"
      ]
     },
     "metadata": {},
     "output_type": "display_data"
    }
   ],
   "source": [
    "# print(X_train,y_train,y_pred,sep=\" \")\n",
    "plt.scatter(X_train,y_train,marker='x',c='black',label='actual Value')\n",
    "plt.plot(X_train,y_pred,color='green',label='Predicted Value')\n",
    "plt.xlabel(\"Distance Travelled\"); \n",
    "plt.ylabel(\"Cost of the Fuel\"); \n",
    "plt.legend(); \n",
    "plt.show()"
   ]
  },
  {
   "cell_type": "code",
   "execution_count": 20,
   "metadata": {},
   "outputs": [],
   "source": [
    "#Predicting for a new value\n",
    "X_test_new = X_test.reshape((-1,1))\n",
    "# X_test_norm = scale.fit(X_test_new)\n",
    "X_test_norm = scale.transform(X_test_new)\n",
    "# print(X_test_norm[:10])\n",
    "\n",
    "### Computating Z_Score normalisation instead of scale.transform() for better accuracy #####\n",
    "\n",
    "# X_test_norm = (X_test_new - mean) / sigma\n",
    "# print(X_test_new)\n",
    "y_test_pred = gradient_descent.predict(X_test_norm)"
   ]
  },
  {
   "cell_type": "code",
   "execution_count": 21,
   "metadata": {},
   "outputs": [
    {
     "data": {
      "image/png": "[encoded data removed]",
      "text/plain": [
       "<Figure size 640x480 with 1 Axes>"
      ]
     },
     "metadata": {},
     "output_type": "display_data"
    }
   ],
   "source": [
    "# print(X_test,y_test,y_pred,sep=\" \")\n",
    "plt.scatter(X_test,y_test,marker='x',c='black',label='actual Value')\n",
    "plt.plot(X_test,y_test_pred,color='green',label='Predicted Value')\n",
    "plt.xlabel(\"Distance Travelled\"); \n",
    "plt.ylabel(\"Cost of the Fuel\"); \n",
    "plt.legend(); \n",
    "plt.show()"
   ]
  },
  {
   "cell_type": "markdown",
   "metadata": {},
   "source": [
    "### Measuring the accuracy for testing Data"
   ]
  },
  {
   "cell_type": "code",
   "execution_count": 22,
   "metadata": {},
   "outputs": [
    {
     "name": "stdout",
     "output_type": "stream",
     "text": [
      "The model performance for testing set\n",
      "--------------------------------------\n",
      "MAE is 0.44385671778980246\n",
      "MSE is 0.31278693027884447\n",
      "R2 score is 0.9999999900093325\n",
      "Accuracy : 99.999999%\n"
     ]
    }
   ],
   "source": [
    "# model evaluation for testing set\n",
    "\n",
    "mae = mean_absolute_error(y_test, y_test_pred)\n",
    "mse = mean_squared_error(y_test, y_test_pred)\n",
    "r2 = r2_score(y_test, y_test_pred)\n",
    "\n",
    "print(\"The model performance for testing set\")\n",
    "print(\"--------------------------------------\")\n",
    "print('MAE is {}'.format(mae))\n",
    "print('MSE is {}'.format(mse))\n",
    "print('R2 score is {}'.format(r2))\n",
    "\n",
    "print(f\"Accuracy : {r2 * 100:.6f}%\")"
   ]
  },
  {
   "cell_type": "code",
   "execution_count": 23,
   "metadata": {},
   "outputs": [],
   "source": [
    "#Save And Load the model\n",
    "\n",
    "modelName = \"fuel_model.pkl\"\n",
    "pkl.dump(gradient_descent,open(\"datafiles/\" + modelName,'wb'))\n",
    "\n",
    "scalerName = \"scale.pkl\"\n",
    "pkl.dump(scale,open(\"datafiles/\" + scalerName,'wb'))"
   ]
  },
  {
   "cell_type": "code",
   "execution_count": 28,
   "metadata": {},
   "outputs": [
    {
     "data": {
      "text/plain": [
       "array([142.76257473])"
      ]
     },
     "execution_count": 28,
     "metadata": {},
     "output_type": "execute_result"
    }
   ],
   "source": [
    "model = pkl.load(open(\"datafiles/\" + modelName,'rb'))\n",
    "scale = pkl.load(open(\"datafiles/\" + scalerName,'rb'))\n",
    "# model.predict(scale.transform([[1]]))\n",
    "# model.predict([[]])\n",
    "# model.predict(scale.transform(np.array(20).reshape(1,-1)))"
   ]
  }
 ],
 "metadata": {
  "kernelspec": {
   "display_name": "scikit_is_cool_venv",
   "language": "python",
   "name": "python3"
  },
  "language_info": {
   "codemirror_mode": {
    "name": "ipython",
    "version": 3
   },
   "file_extension": ".py",
   "mimetype": "text/x-python",
   "name": "python",
   "nbconvert_exporter": "python",
   "pygments_lexer": "ipython3",
   "version": "3.10.12"
  },
  "orig_nbformat": 4
 },
 "nbformat": 4,
 "nbformat_minor": 2
}
