{
 "cells": [
  {
   "cell_type": "code",
   "execution_count": 50,
   "metadata": {},
   "outputs": [],
   "source": [
    "#Importing Libraries\n",
    "import numpy as np \n",
    "from sklearn.linear_model import SGDRegressor\n",
    "from sklearn.preprocessing import StandardScaler\n",
    "from sklearn.model_selection import train_test_split\n",
    "from sklearn.metrics import mean_squared_error,r2_score,mean_absolute_error,accuracy_score\n",
    "import matplotlib.pyplot as plt \n",
    "import pandas as pd \n",
    "import pickle as pkl"
   ]
  },
  {
   "attachments": {},
   "cell_type": "markdown",
   "metadata": {},
   "source": [
    "### Importing the data \n",
    "The data is imported and loaded using pandas and numpy methods below"
   ]
  },
  {
   "cell_type": "code",
   "execution_count": 51,
   "metadata": {},
   "outputs": [],
   "source": [
    "#Importing data \n",
    "df = pd.read_csv(\"datafiles/Data.csv\")"
   ]
  },
  {
   "cell_type": "code",
   "execution_count": 52,
   "metadata": {},
   "outputs": [
    {
     "data": {
      "text/plain": [
       "(300, 4)"
      ]
     },
     "execution_count": 52,
     "metadata": {},
     "output_type": "execute_result"
    }
   ],
   "source": [
    "df.shape"
   ]
  },
  {
   "cell_type": "code",
   "execution_count": 53,
   "metadata": {},
   "outputs": [
    {
     "name": "stdout",
     "output_type": "stream",
     "text": [
      "<class 'pandas.core.frame.DataFrame'>\n",
      "RangeIndex: 300 entries, 0 to 299\n",
      "Data columns (total 4 columns):\n",
      " #   Column       Non-Null Count  Dtype  \n",
      "---  ------       --------------  -----  \n",
      " 0   Source       300 non-null    object \n",
      " 1   Destination  300 non-null    object \n",
      " 2   Distance     298 non-null    float64\n",
      " 3   Cost         298 non-null    float64\n",
      "dtypes: float64(2), object(2)\n",
      "memory usage: 9.5+ KB\n"
     ]
    }
   ],
   "source": [
    "df.info()"
   ]
  },
  {
   "cell_type": "code",
   "execution_count": 54,
   "metadata": {},
   "outputs": [
    {
     "data": {
      "text/plain": [
       "Source         0\n",
       "Destination    0\n",
       "Distance       2\n",
       "Cost           2\n",
       "dtype: int64"
      ]
     },
     "execution_count": 54,
     "metadata": {},
     "output_type": "execute_result"
    }
   ],
   "source": [
    "df.isnull().sum()"
   ]
  },
  {
   "cell_type": "code",
   "execution_count": 55,
   "metadata": {},
   "outputs": [
    {
     "data": {
      "text/plain": [
       "(298, 4)"
      ]
     },
     "execution_count": 55,
     "metadata": {},
     "output_type": "execute_result"
    }
   ],
   "source": [
    "df.dropna(inplace=True)\n",
    "df.shape"
   ]
  },
  {
   "cell_type": "code",
   "execution_count": 56,
   "metadata": {},
   "outputs": [
    {
     "data": {
      "text/html": [
       "<div>\n",
       "<style scoped>\n",
       "    .dataframe tbody tr th:only-of-type {\n",
       "        vertical-align: middle;\n",
       "    }\n",
       "\n",
       "    .dataframe tbody tr th {\n",
       "        vertical-align: top;\n",
       "    }\n",
       "\n",
       "    .dataframe thead th {\n",
       "        text-align: right;\n",
       "    }\n",
       "</style>\n",
       "<table border=\"1\" class=\"dataframe\">\n",
       "  <thead>\n",
       "    <tr style=\"text-align: right;\">\n",
       "      <th></th>\n",
       "      <th>Distance</th>\n",
       "      <th>Cost</th>\n",
       "    </tr>\n",
       "  </thead>\n",
       "  <tbody>\n",
       "    <tr>\n",
       "      <th>count</th>\n",
       "      <td>298.000000</td>\n",
       "      <td>298.000000</td>\n",
       "    </tr>\n",
       "    <tr>\n",
       "      <th>mean</th>\n",
       "      <td>1519.942275</td>\n",
       "      <td>161585.063273</td>\n",
       "    </tr>\n",
       "    <tr>\n",
       "      <th>std</th>\n",
       "      <td>801.455704</td>\n",
       "      <td>85202.755845</td>\n",
       "    </tr>\n",
       "    <tr>\n",
       "      <th>min</th>\n",
       "      <td>12.586000</td>\n",
       "      <td>1338.017660</td>\n",
       "    </tr>\n",
       "    <tr>\n",
       "      <th>25%</th>\n",
       "      <td>823.216500</td>\n",
       "      <td>87516.146115</td>\n",
       "    </tr>\n",
       "    <tr>\n",
       "      <th>50%</th>\n",
       "      <td>1515.823500</td>\n",
       "      <td>161147.196285</td>\n",
       "    </tr>\n",
       "    <tr>\n",
       "      <th>75%</th>\n",
       "      <td>2081.730000</td>\n",
       "      <td>221308.716300</td>\n",
       "    </tr>\n",
       "    <tr>\n",
       "      <th>max</th>\n",
       "      <td>3797.237000</td>\n",
       "      <td>403684.265470</td>\n",
       "    </tr>\n",
       "  </tbody>\n",
       "</table>\n",
       "</div>"
      ],
      "text/plain": [
       "          Distance           Cost\n",
       "count   298.000000     298.000000\n",
       "mean   1519.942275  161585.063273\n",
       "std     801.455704   85202.755845\n",
       "min      12.586000    1338.017660\n",
       "25%     823.216500   87516.146115\n",
       "50%    1515.823500  161147.196285\n",
       "75%    2081.730000  221308.716300\n",
       "max    3797.237000  403684.265470"
      ]
     },
     "execution_count": 56,
     "metadata": {},
     "output_type": "execute_result"
    }
   ],
   "source": [
    "df.describe()"
   ]
  },
  {
   "cell_type": "code",
   "execution_count": 65,
   "metadata": {},
   "outputs": [
    {
     "data": {
      "text/html": [
       "<div>\n",
       "<style scoped>\n",
       "    .dataframe tbody tr th:only-of-type {\n",
       "        vertical-align: middle;\n",
       "    }\n",
       "\n",
       "    .dataframe tbody tr th {\n",
       "        vertical-align: top;\n",
       "    }\n",
       "\n",
       "    .dataframe thead th {\n",
       "        text-align: right;\n",
       "    }\n",
       "</style>\n",
       "<table border=\"1\" class=\"dataframe\">\n",
       "  <thead>\n",
       "    <tr style=\"text-align: right;\">\n",
       "      <th></th>\n",
       "      <th>Source</th>\n",
       "      <th>Destination</th>\n",
       "      <th>Distance</th>\n",
       "      <th>Cost</th>\n",
       "    </tr>\n",
       "  </thead>\n",
       "  <tbody>\n",
       "    <tr>\n",
       "      <th>50</th>\n",
       "      <td>Shimla</td>\n",
       "      <td>Kolkata</td>\n",
       "      <td>1883.799</td>\n",
       "      <td>200266.67169</td>\n",
       "    </tr>\n",
       "    <tr>\n",
       "      <th>51</th>\n",
       "      <td>Pauri Garhwal</td>\n",
       "      <td>Araria</td>\n",
       "      <td>1360.924</td>\n",
       "      <td>144679.83044</td>\n",
       "    </tr>\n",
       "    <tr>\n",
       "      <th>52</th>\n",
       "      <td>Mahbubnagar</td>\n",
       "      <td>Akola</td>\n",
       "      <td>562.661</td>\n",
       "      <td>59816.49091</td>\n",
       "    </tr>\n",
       "    <tr>\n",
       "      <th>53</th>\n",
       "      <td>Budaun</td>\n",
       "      <td>Aurangabad</td>\n",
       "      <td>789.723</td>\n",
       "      <td>83955.45213</td>\n",
       "    </tr>\n",
       "    <tr>\n",
       "      <th>54</th>\n",
       "      <td>Satara</td>\n",
       "      <td>Durg</td>\n",
       "      <td>1004.329</td>\n",
       "      <td>106770.21599</td>\n",
       "    </tr>\n",
       "    <tr>\n",
       "      <th>55</th>\n",
       "      <td>Koppal</td>\n",
       "      <td>Jamui</td>\n",
       "      <td>2097.491</td>\n",
       "      <td>222984.26821</td>\n",
       "    </tr>\n",
       "    <tr>\n",
       "      <th>56</th>\n",
       "      <td>Washim</td>\n",
       "      <td>Dohad</td>\n",
       "      <td>600.611</td>\n",
       "      <td>63850.95541</td>\n",
       "    </tr>\n",
       "    <tr>\n",
       "      <th>57</th>\n",
       "      <td>Nilgiris</td>\n",
       "      <td>Lakhisarai</td>\n",
       "      <td>2473.672</td>\n",
       "      <td>262976.07032</td>\n",
       "    </tr>\n",
       "    <tr>\n",
       "      <th>58</th>\n",
       "      <td>Kannauj</td>\n",
       "      <td>Daman</td>\n",
       "      <td>1328.907</td>\n",
       "      <td>141276.10317</td>\n",
       "    </tr>\n",
       "    <tr>\n",
       "      <th>59</th>\n",
       "      <td>Kannauj</td>\n",
       "      <td>Kanpur Nagar</td>\n",
       "      <td>99.556</td>\n",
       "      <td>10583.79836</td>\n",
       "    </tr>\n",
       "    <tr>\n",
       "      <th>60</th>\n",
       "      <td>Alwar</td>\n",
       "      <td>Azamgarh</td>\n",
       "      <td>769.252</td>\n",
       "      <td>81779.18012</td>\n",
       "    </tr>\n",
       "    <tr>\n",
       "      <th>61</th>\n",
       "      <td>Krishna</td>\n",
       "      <td>East Singhbhum</td>\n",
       "      <td>1106.275</td>\n",
       "      <td>117608.09525</td>\n",
       "    </tr>\n",
       "    <tr>\n",
       "      <th>62</th>\n",
       "      <td>Vidisha</td>\n",
       "      <td>Baksa</td>\n",
       "      <td>1719.847</td>\n",
       "      <td>182836.93457</td>\n",
       "    </tr>\n",
       "    <tr>\n",
       "      <th>63</th>\n",
       "      <td>Kargil</td>\n",
       "      <td>Kishtwar</td>\n",
       "      <td>405.456</td>\n",
       "      <td>43104.02736</td>\n",
       "    </tr>\n",
       "    <tr>\n",
       "      <th>64</th>\n",
       "      <td>Hoshiarpur</td>\n",
       "      <td>Longleng</td>\n",
       "      <td>2718.396</td>\n",
       "      <td>288992.67876</td>\n",
       "    </tr>\n",
       "    <tr>\n",
       "      <th>65</th>\n",
       "      <td>South Dinajpur</td>\n",
       "      <td>Ri Bhoi</td>\n",
       "      <td>740.359</td>\n",
       "      <td>78707.56529</td>\n",
       "    </tr>\n",
       "    <tr>\n",
       "      <th>66</th>\n",
       "      <td>Sri Ganganagar</td>\n",
       "      <td>Singrauli</td>\n",
       "      <td>1377.835</td>\n",
       "      <td>146477.63885</td>\n",
       "    </tr>\n",
       "    <tr>\n",
       "      <th>68</th>\n",
       "      <td>Mahasamund</td>\n",
       "      <td>Ghazipur</td>\n",
       "      <td>757.106</td>\n",
       "      <td>80487.93886</td>\n",
       "    </tr>\n",
       "    <tr>\n",
       "      <th>69</th>\n",
       "      <td>Jamtara</td>\n",
       "      <td>Raipur</td>\n",
       "      <td>825.975</td>\n",
       "      <td>87809.40225</td>\n",
       "    </tr>\n",
       "    <tr>\n",
       "      <th>70</th>\n",
       "      <td>North Cachar Hills</td>\n",
       "      <td>Seoni</td>\n",
       "      <td>2021.566</td>\n",
       "      <td>214912.68146</td>\n",
       "    </tr>\n",
       "    <tr>\n",
       "      <th>71</th>\n",
       "      <td>Narmada</td>\n",
       "      <td>Papum Pare</td>\n",
       "      <td>2903.793</td>\n",
       "      <td>308702.23383</td>\n",
       "    </tr>\n",
       "    <tr>\n",
       "      <th>72</th>\n",
       "      <td>Gaya</td>\n",
       "      <td>Kutch</td>\n",
       "      <td>1886.149</td>\n",
       "      <td>200516.50019</td>\n",
       "    </tr>\n",
       "    <tr>\n",
       "      <th>73</th>\n",
       "      <td>Dakshin Kannada</td>\n",
       "      <td>Bangalore</td>\n",
       "      <td>270.054</td>\n",
       "      <td>28709.44074</td>\n",
       "    </tr>\n",
       "    <tr>\n",
       "      <th>74</th>\n",
       "      <td>Pithoragarh</td>\n",
       "      <td>Tamenglong</td>\n",
       "      <td>2527.012</td>\n",
       "      <td>268646.64572</td>\n",
       "    </tr>\n",
       "    <tr>\n",
       "      <th>75</th>\n",
       "      <td>South Sikkim</td>\n",
       "      <td>Chitrakoot</td>\n",
       "      <td>1078.574</td>\n",
       "      <td>114663.20194</td>\n",
       "    </tr>\n",
       "    <tr>\n",
       "      <th>76</th>\n",
       "      <td>Barwani</td>\n",
       "      <td>Kokrajhar</td>\n",
       "      <td>1993.392</td>\n",
       "      <td>211917.50352</td>\n",
       "    </tr>\n",
       "    <tr>\n",
       "      <th>77</th>\n",
       "      <td>Hailakandi</td>\n",
       "      <td>Basti</td>\n",
       "      <td>1593.736</td>\n",
       "      <td>169430.07416</td>\n",
       "    </tr>\n",
       "    <tr>\n",
       "      <th>78</th>\n",
       "      <td>Kannauj</td>\n",
       "      <td>Tumkur</td>\n",
       "      <td>1976.467</td>\n",
       "      <td>210118.20677</td>\n",
       "    </tr>\n",
       "    <tr>\n",
       "      <th>79</th>\n",
       "      <td>Chandrapur</td>\n",
       "      <td>Khagaria</td>\n",
       "      <td>1292.840</td>\n",
       "      <td>137441.82040</td>\n",
       "    </tr>\n",
       "    <tr>\n",
       "      <th>81</th>\n",
       "      <td>Theni</td>\n",
       "      <td>Mewat</td>\n",
       "      <td>2525.033</td>\n",
       "      <td>268436.25823</td>\n",
       "    </tr>\n",
       "  </tbody>\n",
       "</table>\n",
       "</div>"
      ],
      "text/plain": [
       "                Source     Destination  Distance          Cost\n",
       "50              Shimla         Kolkata  1883.799  200266.67169\n",
       "51       Pauri Garhwal          Araria  1360.924  144679.83044\n",
       "52         Mahbubnagar           Akola   562.661   59816.49091\n",
       "53              Budaun      Aurangabad   789.723   83955.45213\n",
       "54              Satara            Durg  1004.329  106770.21599\n",
       "55              Koppal           Jamui  2097.491  222984.26821\n",
       "56              Washim           Dohad   600.611   63850.95541\n",
       "57            Nilgiris      Lakhisarai  2473.672  262976.07032\n",
       "58             Kannauj           Daman  1328.907  141276.10317\n",
       "59             Kannauj    Kanpur Nagar    99.556   10583.79836\n",
       "60               Alwar        Azamgarh   769.252   81779.18012\n",
       "61             Krishna  East Singhbhum  1106.275  117608.09525\n",
       "62             Vidisha           Baksa  1719.847  182836.93457\n",
       "63              Kargil        Kishtwar   405.456   43104.02736\n",
       "64          Hoshiarpur        Longleng  2718.396  288992.67876\n",
       "65      South Dinajpur         Ri Bhoi   740.359   78707.56529\n",
       "66      Sri Ganganagar       Singrauli  1377.835  146477.63885\n",
       "68          Mahasamund        Ghazipur   757.106   80487.93886\n",
       "69             Jamtara          Raipur   825.975   87809.40225\n",
       "70  North Cachar Hills           Seoni  2021.566  214912.68146\n",
       "71             Narmada      Papum Pare  2903.793  308702.23383\n",
       "72                Gaya           Kutch  1886.149  200516.50019\n",
       "73     Dakshin Kannada       Bangalore   270.054   28709.44074\n",
       "74         Pithoragarh      Tamenglong  2527.012  268646.64572\n",
       "75        South Sikkim      Chitrakoot  1078.574  114663.20194\n",
       "76             Barwani       Kokrajhar  1993.392  211917.50352\n",
       "77          Hailakandi           Basti  1593.736  169430.07416\n",
       "78             Kannauj          Tumkur  1976.467  210118.20677\n",
       "79          Chandrapur        Khagaria  1292.840  137441.82040\n",
       "81               Theni           Mewat  2525.033  268436.25823"
      ]
     },
     "execution_count": 65,
     "metadata": {},
     "output_type": "execute_result"
    }
   ],
   "source": [
    "df[50:80]"
   ]
  },
  {
   "cell_type": "code",
   "execution_count": 13,
   "metadata": {},
   "outputs": [
    {
     "data": {
      "text/plain": [
       "array([1939.572, 2538.667, 2050.261, 1972.095, 2071.325, 2073.579,\n",
       "       1817.569, 1173.004, 1266.164,  879.889,  808.683,  634.089,\n",
       "        182.947,  712.577,  528.906, 1362.004, 2930.392, 2550.425,\n",
       "       1122.332, 1619.205, 1560.472,  320.12 ,  934.563,  378.314,\n",
       "        829.417, 2982.978, 2129.345, 1562.242, 2179.764, 1527.   ,\n",
       "        679.228,  229.405, 1324.852,  515.569,  991.2  ,  437.615,\n",
       "        451.3  , 1501.329,  800.899, 1797.791, 2991.617,  451.431,\n",
       "        992.91 , 1541.723,  520.543,  689.211, 2319.975,  583.901,\n",
       "       1128.43 , 1198.325, 1883.799, 1360.924,  562.661,  789.723,\n",
       "       1004.329, 2097.491,  600.611, 2473.672, 1328.907,   99.556,\n",
       "        769.252, 1106.275, 1719.847,  405.456, 2718.396,  740.359,\n",
       "       1377.835,  757.106,  825.975, 2021.566, 2903.793, 1886.149,\n",
       "        270.054, 2527.012, 1078.574, 1993.392, 1593.736, 1976.467,\n",
       "       1292.84 , 2525.033, 1658.911, 1928.024, 1398.782, 2645.623,\n",
       "       1087.507, 1665.504, 2178.786, 1569.364, 1092.415, 1387.658,\n",
       "       1763.266, 1131.818, 1200.013, 2895.109,  206.189, 1774.83 ,\n",
       "       1832.375, 1155.605,  562.77 , 1056.965,  279.765, 2156.447,\n",
       "       2558.705, 1553.251, 1407.151, 1498.343,  658.441, 1417.357,\n",
       "       3498.602, 2038.002, 2565.688, 1868.633, 1540.859, 1923.865,\n",
       "        458.301, 1735.024,   12.586, 2071.744,  785.81 , 3797.237,\n",
       "       1466.659, 1745.602, 1386.258, 2433.347,  611.71 ,  368.204,\n",
       "       3080.699, 3209.731,  771.486, 1568.503, 1620.494,  949.346,\n",
       "       2556.91 , 1517.894, 1644.018, 1181.706, 1833.12 , 1241.434,\n",
       "       1312.786, 1520.941, 2101.917, 1480.337, 2084.447,  945.818,\n",
       "       2195.436,  360.866, 2796.235, 2430.135, 2195.187, 2530.346,\n",
       "       1370.235, 2334.141, 2659.927, 1683.365,  742.616, 2061.375,\n",
       "       2453.994,  721.564, 2847.153, 2376.302, 2725.386, 1056.612,\n",
       "        963.238,  801.683,  417.52 , 1859.729,  504.814, 2167.466,\n",
       "       1483.973,  822.297, 1465.894, 1497.816, 3245.527,  728.551,\n",
       "       2660.498,  311.146,  964.973, 1649.215, 2838.054, 1792.262,\n",
       "        599.251, 1521.446, 1761.565,  669.073, 1102.719, 2504.028,\n",
       "       1929.071, 1758.252, 1896.707, 2774.232,  555.359, 1716.668,\n",
       "       1513.753,  452.956,  821.95 , 1618.171, 1138.941,  422.98 ,\n",
       "       2259.501, 2351.012, 1522.04 , 1701.228, 3789.335, 2642.88 ,\n",
       "       1076.819, 1976.739,  642.816, 2822.038, 1931.931,  622.221,\n",
       "         98.802, 1080.004, 2677.29 , 1010.587, 1795.654, 2323.984,\n",
       "        413.443, 1508.29 ,  350.868, 2227.375, 2346.933,  515.67 ,\n",
       "        949.184, 1583.714, 2701.361, 1985.979,  384.863, 1693.623,\n",
       "       2452.248, 1147.052, 2283.233, 2422.144, 1634.391, 2272.952,\n",
       "       1321.074, 1774.652, 1887.583, 2147.181, 1675.946, 1381.637,\n",
       "        522.885,  384.306,  518.829,  219.279,  987.88 ,  115.184,\n",
       "       1362.237,  665.734, 1875.112, 2631.805, 2276.593,  509.672,\n",
       "        331.293,  997.092, 1333.092,  148.406, 1979.597,  946.377,\n",
       "       1914.604, 1834.884, 2652.958, 1804.635, 1400.793,  722.225,\n",
       "       3395.118, 1646.732, 2329.257, 1955.046, 2033.375, 1468.246,\n",
       "        330.049, 1347.919, 1551.252, 2308.932, 1455.461, 1408.243,\n",
       "       1071.663, 1165.536, 2456.629,  268.951, 2259.224, 2917.197,\n",
       "       2263.088, 1368.819,  839.84 , 2655.599,  600.945,  588.944,\n",
       "        429.487,  742.96 , 1892.037, 2179.934,  780.741,  975.507,\n",
       "       2762.024, 1321.532, 2853.209, 2198.264])"
      ]
     },
     "execution_count": 13,
     "metadata": {},
     "output_type": "execute_result"
    }
   ],
   "source": [
    "df['Distance'].to_numpy()"
   ]
  },
  {
   "cell_type": "code",
   "execution_count": null,
   "metadata": {},
   "outputs": [],
   "source": []
  },
  {
   "cell_type": "code",
   "execution_count": 14,
   "metadata": {},
   "outputs": [],
   "source": [
    "X_train,X_test,y_train,y_test = train_test_split(df['Distance'],df['Cost'],train_size=0.75)"
   ]
  },
  {
   "cell_type": "code",
   "execution_count": 21,
   "metadata": {},
   "outputs": [],
   "source": [
    "# X_train, X_test = X_train.to_numpy(),X_test.to_numpy()\n",
    "# y_train,y_test = y_train.to_numpy(),y_test.to_numpy()\n"
   ]
  },
  {
   "attachments": {},
   "cell_type": "markdown",
   "metadata": {},
   "source": [
    "## Normalize/Scale the Data"
   ]
  },
  {
   "cell_type": "code",
   "execution_count": 25,
   "metadata": {},
   "outputs": [
    {
     "data": {
      "text/plain": [
       "1516.83235426009"
      ]
     },
     "execution_count": 25,
     "metadata": {},
     "output_type": "execute_result"
    }
   ],
   "source": [
    "#### This cell has been added at the end as to emphasize the importance of Normalisiing the data ######\n",
    "#Before Fitting to the model , we need to reshape the data\n",
    "X_train_shape = X_train.reshape((-1,1))\n",
    "\n",
    "#Calculating mean and standard deviation for single data points\n",
    "mean,sigma = np.mean(X_train),np.std(X_train)\n",
    "#Normalise the data \n",
    "scale = StandardScaler()\n",
    "X_train_norm = scale.fit_transform(X_train_shape)\n",
    "X_train_norm.shape\n",
    "# X_train_shape\n"
   ]
  },
  {
   "attachments": {},
   "cell_type": "markdown",
   "metadata": {},
   "source": [
    "## Apply the gradient Descent \n",
    "SGDRegressor is used to apply the gradient descent"
   ]
  },
  {
   "cell_type": "code",
   "execution_count": 26,
   "metadata": {},
   "outputs": [
    {
     "data": {
      "text/html": [
       "<style>#sk-container-id-1 {color: black;}#sk-container-id-1 pre{padding: 0;}#sk-container-id-1 div.sk-toggleable {background-color: white;}#sk-container-id-1 label.sk-toggleable__label {cursor: pointer;display: block;width: 100%;margin-bottom: 0;padding: 0.3em;box-sizing: border-box;text-align: center;}#sk-container-id-1 label.sk-toggleable__label-arrow:before {content: \"▸\";float: left;margin-right: 0.25em;color: #696969;}#sk-container-id-1 label.sk-toggleable__label-arrow:hover:before {color: black;}#sk-container-id-1 div.sk-estimator:hover label.sk-toggleable__label-arrow:before {color: black;}#sk-container-id-1 div.sk-toggleable__content {max-height: 0;max-width: 0;overflow: hidden;text-align: left;background-color: #f0f8ff;}#sk-container-id-1 div.sk-toggleable__content pre {margin: 0.2em;color: black;border-radius: 0.25em;background-color: #f0f8ff;}#sk-container-id-1 input.sk-toggleable__control:checked~div.sk-toggleable__content {max-height: 200px;max-width: 100%;overflow: auto;}#sk-container-id-1 input.sk-toggleable__control:checked~label.sk-toggleable__label-arrow:before {content: \"▾\";}#sk-container-id-1 div.sk-estimator input.sk-toggleable__control:checked~label.sk-toggleable__label {background-color: #d4ebff;}#sk-container-id-1 div.sk-label input.sk-toggleable__control:checked~label.sk-toggleable__label {background-color: #d4ebff;}#sk-container-id-1 input.sk-hidden--visually {border: 0;clip: rect(1px 1px 1px 1px);clip: rect(1px, 1px, 1px, 1px);height: 1px;margin: -1px;overflow: hidden;padding: 0;position: absolute;width: 1px;}#sk-container-id-1 div.sk-estimator {font-family: monospace;background-color: #f0f8ff;border: 1px dotted black;border-radius: 0.25em;box-sizing: border-box;margin-bottom: 0.5em;}#sk-container-id-1 div.sk-estimator:hover {background-color: #d4ebff;}#sk-container-id-1 div.sk-parallel-item::after {content: \"\";width: 100%;border-bottom: 1px solid gray;flex-grow: 1;}#sk-container-id-1 div.sk-label:hover label.sk-toggleable__label {background-color: #d4ebff;}#sk-container-id-1 div.sk-serial::before {content: \"\";position: absolute;border-left: 1px solid gray;box-sizing: border-box;top: 0;bottom: 0;left: 50%;z-index: 0;}#sk-container-id-1 div.sk-serial {display: flex;flex-direction: column;align-items: center;background-color: white;padding-right: 0.2em;padding-left: 0.2em;position: relative;}#sk-container-id-1 div.sk-item {position: relative;z-index: 1;}#sk-container-id-1 div.sk-parallel {display: flex;align-items: stretch;justify-content: center;background-color: white;position: relative;}#sk-container-id-1 div.sk-item::before, #sk-container-id-1 div.sk-parallel-item::before {content: \"\";position: absolute;border-left: 1px solid gray;box-sizing: border-box;top: 0;bottom: 0;left: 50%;z-index: -1;}#sk-container-id-1 div.sk-parallel-item {display: flex;flex-direction: column;z-index: 1;position: relative;background-color: white;}#sk-container-id-1 div.sk-parallel-item:first-child::after {align-self: flex-end;width: 50%;}#sk-container-id-1 div.sk-parallel-item:last-child::after {align-self: flex-start;width: 50%;}#sk-container-id-1 div.sk-parallel-item:only-child::after {width: 0;}#sk-container-id-1 div.sk-dashed-wrapped {border: 1px dashed gray;margin: 0 0.4em 0.5em 0.4em;box-sizing: border-box;padding-bottom: 0.4em;background-color: white;}#sk-container-id-1 div.sk-label label {font-family: monospace;font-weight: bold;display: inline-block;line-height: 1.2em;}#sk-container-id-1 div.sk-label-container {text-align: center;}#sk-container-id-1 div.sk-container {/* jupyter's `normalize.less` sets `[hidden] { display: none; }` but bootstrap.min.css set `[hidden] { display: none !important; }` so we also need the `!important` here to be able to override the default hidden behavior on the sphinx rendered scikit-learn.org. See: https://github.com/scikit-learn/scikit-learn/issues/21755 */display: inline-block !important;position: relative;}#sk-container-id-1 div.sk-text-repr-fallback {display: none;}</style><div id=\"sk-container-id-1\" class=\"sk-top-container\"><div class=\"sk-text-repr-fallback\"><pre>SGDRegressor()</pre><b>In a Jupyter environment, please rerun this cell to show the HTML representation or trust the notebook. <br />On GitHub, the HTML representation is unable to render, please try loading this page with nbviewer.org.</b></div><div class=\"sk-container\" hidden><div class=\"sk-item\"><div class=\"sk-estimator sk-toggleable\"><input class=\"sk-toggleable__control sk-hidden--visually\" id=\"sk-estimator-id-1\" type=\"checkbox\" checked><label for=\"sk-estimator-id-1\" class=\"sk-toggleable__label sk-toggleable__label-arrow\">SGDRegressor</label><div class=\"sk-toggleable__content\"><pre>SGDRegressor()</pre></div></div></div></div></div>"
      ],
      "text/plain": [
       "SGDRegressor()"
      ]
     },
     "execution_count": 26,
     "metadata": {},
     "output_type": "execute_result"
    }
   ],
   "source": [
    "\n",
    "#Training our model by fitting to the linear model\n",
    "gradient_descent = SGDRegressor(max_iter=1000)\n",
    "gradient_descent.fit(X_train_norm,y_train)"
   ]
  },
  {
   "cell_type": "code",
   "execution_count": 27,
   "metadata": {},
   "outputs": [
    {
     "name": "stdout",
     "output_type": "stream",
     "text": [
      "The weights and the bias would be w : [83941.55301447] and b : [161254.42348607] respectively\n"
     ]
    }
   ],
   "source": [
    "#Extracting weights and bias from gradient Descent \n",
    "w_norm = gradient_descent.coef_\n",
    "b_norm = gradient_descent.intercept_\n",
    "print(f\"The weights and the bias would be w : {w_norm} and b : {b_norm} respectively\")"
   ]
  },
  {
   "attachments": {},
   "cell_type": "markdown",
   "metadata": {},
   "source": [
    "## Predict the data"
   ]
  },
  {
   "cell_type": "code",
   "execution_count": 28,
   "metadata": {},
   "outputs": [],
   "source": [
    "#Predicting the data \n",
    "y_pred = gradient_descent.predict(X_train_norm)\n"
   ]
  },
  {
   "cell_type": "markdown",
   "metadata": {},
   "source": [
    "### Measuring Accuracy for Training Data"
   ]
  },
  {
   "cell_type": "code",
   "execution_count": 29,
   "metadata": {},
   "outputs": [
    {
     "name": "stdout",
     "output_type": "stream",
     "text": [
      "The model performance for training set\n",
      "--------------------------------------\n",
      "MAE is 6.964206374736161\n",
      "MSE is 70.3215338771377\n",
      "R2 score is 0.9999999900219065\n",
      "Accuracy : 99.999999%\n"
     ]
    }
   ],
   "source": [
    "#Measuring the accuracy \n",
    "# model evaluation for training set\n",
    "\n",
    "mae = mean_absolute_error(y_train, y_pred)\n",
    "mse = mean_squared_error(y_train, y_pred)\n",
    "r2 = r2_score(y_train, y_pred)\n",
    "\n",
    "print(\"The model performance for training set\")\n",
    "print(\"--------------------------------------\")\n",
    "print('MAE is {}'.format(mae))\n",
    "print('MSE is {}'.format(mse))\n",
    "print('R2 score is {}'.format(r2))\n",
    "\n",
    "print(f\"Accuracy : {r2 * 100:.6f}%\")"
   ]
  },
  {
   "cell_type": "code",
   "execution_count": 30,
   "metadata": {},
   "outputs": [
    {
     "data": {
      "image/png": "[encoded data removed]",
      "text/plain": [
       "<Figure size 640x480 with 1 Axes>"
      ]
     },
     "metadata": {},
     "output_type": "display_data"
    }
   ],
   "source": [
    "# print(X_train,y_train,y_pred,sep=\" \")\n",
    "plt.scatter(X_train,y_train,marker='x',c='black',label='actual Value')\n",
    "plt.plot(X_train,y_pred,color='green',label='Predicted Value')\n",
    "plt.xlabel(\"Distance Travelled\"); \n",
    "plt.ylabel(\"Cost of the Fuel\"); \n",
    "plt.legend(); \n",
    "plt.show()"
   ]
  },
  {
   "cell_type": "code",
   "execution_count": 31,
   "metadata": {},
   "outputs": [],
   "source": [
    "#Predicting for a new value\n",
    "X_test_new = X_test.reshape((-1,1))\n",
    "# X_test_norm = scale.fit(X_test_new)\n",
    "X_test_norm = scale.transform(X_test_new)\n",
    "# print(X_test_norm[:10])\n",
    "\n",
    "### Computating Z_Score normalisation instead of scale.transform() for better accuracy #####\n",
    "\n",
    "# X_test_norm = (X_test_new - mean) / sigma\n",
    "# print(X_test_new)\n",
    "y_test_pred = gradient_descent.predict(X_test_norm)"
   ]
  },
  {
   "cell_type": "code",
   "execution_count": 32,
   "metadata": {},
   "outputs": [
    {
     "data": {
      "image/png": "[encoded data removed]",
      "text/plain": [
       "<Figure size 640x480 with 1 Axes>"
      ]
     },
     "metadata": {},
     "output_type": "display_data"
    }
   ],
   "source": [
    "# print(X_test,y_test,y_pred,sep=\" \")\n",
    "plt.scatter(X_test,y_test,marker='x',c='black',label='actual Value')\n",
    "plt.plot(X_test,y_test_pred,color='green',label='Predicted Value')\n",
    "plt.xlabel(\"Distance Travelled\"); \n",
    "plt.ylabel(\"Cost of the Fuel\"); \n",
    "plt.legend(); \n",
    "plt.show()"
   ]
  },
  {
   "cell_type": "markdown",
   "metadata": {},
   "source": [
    "### Measuring the accuracy for testing Data"
   ]
  },
  {
   "cell_type": "code",
   "execution_count": 33,
   "metadata": {},
   "outputs": [
    {
     "name": "stdout",
     "output_type": "stream",
     "text": [
      "The model performance for testing set\n",
      "--------------------------------------\n",
      "MAE is 7.224513322414805\n",
      "MSE is 77.76805376673134\n",
      "R2 score is 0.9999999900188928\n",
      "Accuracy : 99.999999%\n"
     ]
    }
   ],
   "source": [
    "# model evaluation for testing set\n",
    "\n",
    "mae = mean_absolute_error(y_test, y_test_pred)\n",
    "mse = mean_squared_error(y_test, y_test_pred)\n",
    "r2 = r2_score(y_test, y_test_pred)\n",
    "\n",
    "print(\"The model performance for testing set\")\n",
    "print(\"--------------------------------------\")\n",
    "print('MAE is {}'.format(mae))\n",
    "print('MSE is {}'.format(mse))\n",
    "print('R2 score is {}'.format(r2))\n",
    "\n",
    "print(f\"Accuracy : {r2 * 100:.6f}%\")"
   ]
  },
  {
   "cell_type": "code",
   "execution_count": 86,
   "metadata": {},
   "outputs": [],
   "source": [
    "#Save And Load the model\n",
    "\n",
    "modelName = \"fuel_model.pkl\"\n",
    "pkl.dump(gradient_descent,open(\"datafiles/\" + modelName,'wb'))\n",
    "\n",
    "scalerName = \"scale.pkl\"\n",
    "pkl.dump(scale,open(\"datafiles/\" + scalerName,'wb'))"
   ]
  },
  {
   "cell_type": "code",
   "execution_count": 90,
   "metadata": {},
   "outputs": [
    {
     "data": {
      "text/plain": [
       "array([26590.92878429])"
      ]
     },
     "execution_count": 90,
     "metadata": {},
     "output_type": "execute_result"
    }
   ],
   "source": [
    "model = pkl.load(open(\"datafiles/\" + modelName,'rb'))\n",
    "scale = pkl.load(open(\"datafiles/\" + scalerName,'rb'))\n",
    "# model.predict(scale.transform([[1]]))\n",
    "# model.predict([[]])\n",
    "# model.predict(scale.transform(np.array(250).reshape(1,-1)))"
   ]
  }
 ],
 "metadata": {
  "kernelspec": {
   "display_name": "scikit_is_cool_venv",
   "language": "python",
   "name": "python3"
  },
  "language_info": {
   "codemirror_mode": {
    "name": "ipython",
    "version": 3
   },
   "file_extension": ".py",
   "mimetype": "text/x-python",
   "name": "python",
   "nbconvert_exporter": "python",
   "pygments_lexer": "ipython3",
   "version": "3.10.12"
  },
  "orig_nbformat": 4
 },
 "nbformat": 4,
 "nbformat_minor": 2
}
